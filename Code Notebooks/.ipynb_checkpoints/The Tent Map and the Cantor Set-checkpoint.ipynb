{
 "cells": [
  {
   "cell_type": "markdown",
   "metadata": {},
   "source": [
    "# The Tent Map and the Cantor Set"
   ]
  },
  {
   "cell_type": "markdown",
   "metadata": {},
   "source": [
    "## Goals"
   ]
  },
  {
   "cell_type": "markdown",
   "metadata": {},
   "source": [
    "This notebook:\n",
    "\n",
    "1. Introduces the use of SageMath for working with dynamical systems, by going carefully through an example that you have presumably already seen in some form. \n",
    "2. Illustrates in a special case how fractals arise from symmetries of a dynamical system (giving a special case of renormalization)\n",
    "3. Introduces iterated function systems."
   ]
  },
  {
   "cell_type": "markdown",
   "metadata": {},
   "source": [
    "## Definition and plotting"
   ]
  },
  {
   "cell_type": "markdown",
   "metadata": {},
   "source": [
    "You have probably seen variants of the Tent Map in the first dynamics course. Here we'll consider the map $T:{\\mathbb R} \\to {\\mathbb R}$ given by \n",
    "$$T(x) = \\begin{cases}\n",
    "3x & \\text{if $x \\leq \\frac{1}{2}$,}\\\\\n",
    "3-3x & \\text{if $x \\geq \\frac{1}{2}$.}\n",
    "\\end{cases}$$\n",
    "\n",
    "This function can be coded in SageMath as follows:"
   ]
  },
  {
   "cell_type": "code",
   "execution_count": null,
   "metadata": {},
   "outputs": [],
   "source": [
    "# Define T to be a piecewise function\n",
    "def T(x):\n",
    "    if x <= 1/2:\n",
    "        return 3*x\n",
    "    else:\n",
    "        return 3 - 3*x"
   ]
  },
  {
   "cell_type": "markdown",
   "metadata": {},
   "source": [
    "*Remark:* Sage is built on top of Python and so the code above will run just as well in Python. The code returns $3x$ if $x \\leq 1/2$ and returns $3-3x$ otherwise."
   ]
  },
  {
   "cell_type": "markdown",
   "metadata": {},
   "source": [
    "Sage then can do exact arithmetic to apply the map. For example, it shows $T(\\frac{4}{5})=\\frac{3}{5}$:"
   ]
  },
  {
   "cell_type": "code",
   "execution_count": null,
   "metadata": {},
   "outputs": [],
   "source": [
    "T(4/5)"
   ]
  },
  {
   "cell_type": "markdown",
   "metadata": {},
   "source": [
    "We can plot the function below. (See the Sage documentaton of the [plot function](https://doc.sagemath.org/html/en/reference/plotting/sage/plot/plot.html). You can see the documentation when running Sage by typing `plot?` and pressing `Shift+Return`.)"
   ]
  },
  {
   "cell_type": "code",
   "execution_count": 3,
   "metadata": {},
   "outputs": [
    {
     "data": {
      "image/png": "[encoded data removed]",
      "text/plain": [
       "Graphics object consisting of 1 graphics primitive"
      ]
     },
     "execution_count": 3,
     "metadata": {},
     "output_type": "execute_result"
    }
   ],
   "source": [
    "plot(T, xmin = -0.5, xmax = 1.5, ymin=-0.5, aspect_ratio = 1)"
   ]
  },
  {
   "cell_type": "markdown",
   "metadata": {},
   "source": [
    "As we are studying dynamics, we are interested in understanding the long term behavior of orbits of the system. One obvious phenomenon is \n",
    "\n",
    "* If $x<0$, then $T^n(x) \\to -\\infty$ as $n \\to \\infty$. \n",
    "\n",
    "E.g., consider the orbit of $y_0 = -\\frac{1}{2}$:"
   ]
  },
  {
   "cell_type": "code",
   "execution_count": 4,
   "metadata": {},
   "outputs": [
    {
     "name": "stdout",
     "output_type": "stream",
     "text": [
      "T^0(y_0) = -1/2\n",
      "T^1(y_0) = -3/2\n",
      "T^2(y_0) = -9/2\n",
      "T^3(y_0) = -27/2\n",
      "T^4(y_0) = -81/2\n",
      "T^5(y_0) = -243/2\n",
      "T^6(y_0) = -729/2\n",
      "T^7(y_0) = -2187/2\n",
      "T^8(y_0) = -6561/2\n",
      "T^9(y_0) = -19683/2\n"
     ]
    }
   ],
   "source": [
    "y0 = -1/2\n",
    "y = y0\n",
    "# Iterate over the values n = 0, ..., 9.\n",
    "for n in range(10):\n",
    "    print(f'T^{n}(y_0) = {y}')\n",
    "    y = T(y)"
   ]
  },
  {
   "cell_type": "markdown",
   "metadata": {},
   "source": [
    "We consider when the orbit $\\{T^n(x): ~n \\geq 0\\}$ is bounded.\n",
    "\n",
    "Next observe that if $x>1$ then $T(x)<0$, so:\n",
    "\n",
    "* If $x>1$, then $T^n(x) \\to -\\infty$ as $n \\to \\infty$. \n",
    "\n",
    "It follows that any point with a bounded orbit lies in $[0, 1]$. So, furthermore, the set of points with a bounded orbit is the set\n",
    "\n",
    "$$\\Lambda = \\{x \\in {\\mathbb R}:~\\text{$T^n(x) \\in [0,1]$ for all $n \\geq 0$}\\}.$$"
   ]
  },
  {
   "cell_type": "markdown",
   "metadata": {},
   "source": [
    "## The Cantor set\n",
    "\n",
    "It is a well known-secret that $\\Lambda$ is the middle-third Cantor set in $[0, 1]$ is the set of all points $x$ with bounded orbits. We draw the middle third Cantor set below using the dynamics of $T$."
   ]
  },
  {
   "cell_type": "markdown",
   "metadata": {},
   "source": [
    "Below, we write a function that returns the number of iterates that a point stays within $[0, 1]$, up to a maximum of 10 (by default)."
   ]
  },
  {
   "cell_type": "code",
   "execution_count": 5,
   "metadata": {},
   "outputs": [],
   "source": [
    "def time_inside(x, limit = 10):\n",
    "    n = 0\n",
    "    while 0 <= x <= 1 and n < limit:\n",
    "        n = n+1\n",
    "        x = T(x)\n",
    "    return n"
   ]
  },
  {
   "cell_type": "markdown",
   "metadata": {},
   "source": [
    "To demonstrate its use, observe:"
   ]
  },
  {
   "cell_type": "code",
   "execution_count": 6,
   "metadata": {},
   "outputs": [
    {
     "data": {
      "text/plain": [
       "0"
      ]
     },
     "execution_count": 6,
     "metadata": {},
     "output_type": "execute_result"
    }
   ],
   "source": [
    "time_inside(5)"
   ]
  },
  {
   "cell_type": "code",
   "execution_count": 7,
   "metadata": {},
   "outputs": [
    {
     "data": {
      "text/plain": [
       "1"
      ]
     },
     "execution_count": 7,
     "metadata": {},
     "output_type": "execute_result"
    }
   ],
   "source": [
    "time_inside(1/2)"
   ]
  },
  {
   "cell_type": "code",
   "execution_count": 8,
   "metadata": {},
   "outputs": [
    {
     "data": {
      "text/plain": [
       "2"
      ]
     },
     "execution_count": 8,
     "metadata": {},
     "output_type": "execute_result"
    }
   ],
   "source": [
    "time_inside(1/5)\n",
    "# Orbit is 1/5, 3/5, 6/5"
   ]
  },
  {
   "cell_type": "code",
   "execution_count": 9,
   "metadata": {},
   "outputs": [
    {
     "data": {
      "text/plain": [
       "10"
      ]
     },
     "execution_count": 9,
     "metadata": {},
     "output_type": "execute_result"
    }
   ],
   "source": [
    "time_inside(1)\n",
    "# Returns 10 because of the limit was set to 10."
   ]
  },
  {
   "cell_type": "code",
   "execution_count": 10,
   "metadata": {},
   "outputs": [
    {
     "data": {
      "text/plain": [
       "20"
      ]
     },
     "execution_count": 10,
     "metadata": {},
     "output_type": "execute_result"
    }
   ],
   "source": [
    "time_inside(1, limit = 20)\n",
    "# Returns 20 because of the limit was changed to 20."
   ]
  },
  {
   "cell_type": "markdown",
   "metadata": {},
   "source": [
    "To \"see\" the Cantor set, we can plot the function\n",
    "$$f(x) = \\frac{1}{ti(x)+1}$$\n",
    "where $ti(x)$ is `time_inside(x)`."
   ]
  },
  {
   "cell_type": "code",
   "execution_count": 11,
   "metadata": {},
   "outputs": [],
   "source": [
    "def f(x):\n",
    "    return 1/(time_inside(x) + 1)"
   ]
  },
  {
   "cell_type": "code",
   "execution_count": 12,
   "metadata": {},
   "outputs": [
    {
     "data": {
      "image/png": "[encoded data removed]",
      "text/plain": [
       "Graphics object consisting of 1 graphics primitive"
      ]
     },
     "execution_count": 12,
     "metadata": {},
     "output_type": "execute_result"
    }
   ],
   "source": [
    "plot(f, xmin=-0.1, xmax=1.1, plot_points=500, axes_labels=['$x$','$f(x)$'])"
   ]
  },
  {
   "cell_type": "markdown",
   "metadata": {},
   "source": [
    "## The Cantor set as an iterated function system"
   ]
  },
  {
   "cell_type": "markdown",
   "metadata": {},
   "source": [
    "Let $\\Lambda$ denote the set of points $x \\in {\\mathbb R}$ whose orbit under $T$ is bounded. It should be clear that:\n",
    "* For all $x \\in {\\mathbb R}$, $x \\in \\Lambda$ if and only if $T(x) \\in \\Lambda$.\n"
   ]
  },
  {
   "cell_type": "markdown",
   "metadata": {},
   "source": [
    "Observe that if $y < \\frac{3}{2}$, then there are two solutions to the equation\n",
    "$$T(x)=y.$$\n",
    "The solutions are \n",
    "$$x = g_0(y) = \\frac{y}{3} \\quad \\text{and} \\quad x=g_1(y) = 1-\\frac{y}{3}.$$"
   ]
  },
  {
   "cell_type": "markdown",
   "metadata": {},
   "source": [
    "Here we define these inverse branches as Sage functions. "
   ]
  },
  {
   "cell_type": "code",
   "execution_count": 13,
   "metadata": {},
   "outputs": [
    {
     "data": {
      "text/plain": [
       "(y |--> 1/3*y, y |--> -1/3*y + 1)"
      ]
     },
     "execution_count": 13,
     "metadata": {},
     "output_type": "execute_result"
    }
   ],
   "source": [
    "g0(y) = y/3\n",
    "g1(y) = 1 - y/3\n",
    "\n",
    "g0, g1 # The output of the last line is printed."
   ]
  },
  {
   "cell_type": "markdown",
   "metadata": {},
   "source": [
    "(Note the change in syntax. The code `g0(y) = y/3` builds a Sage function which can be differentiated, integrated, and printed nicely for example. You could also define $g_0$ by\n",
    "```python\n",
    "def g0(y):\n",
    "    return y/3\n",
    "```\n",
    "But, Sage would not be able to symbolic things with this version. We don't actually need these symbolic methods in this notebook, but the Sage syntax is nicer for functions as long as they are just mathematical.)"
   ]
  },
  {
   "cell_type": "markdown",
   "metadata": {},
   "source": [
    "The two maps\n",
    "$$\\Big\\{~g_0(y) = \\frac{y}{3}, ~ g_1(y) = 1-\\frac{y}{3}~\\Big\\}.$$\n",
    "form what is called a *contracting iterated function system* in that each of the finitely many maps is a *contracting similarity*, i.e., the maps satisfy\n",
    "$$d\\big(g_i(x), g_i(y)\\big) = c\\,d(x,y) \\quad \\text{for some constant $c<1$}.$$\n",
    "Here the constant $c$ is $1/3$. See &sect; 4.1 of Edgar for formal definitions."
   ]
  },
  {
   "cell_type": "markdown",
   "metadata": {},
   "source": [
    "**Limit sets:** There are various equivalent definitions of the *attractor* (or *limit set* or *invariant set*) of a contracting iterated function system $\\{g_0, \\ldots, g_{k-1}\\}$ in ${\\mathbb R}^n$. "
   ]
  },
  {
   "cell_type": "markdown",
   "metadata": {},
   "source": [
    "**Definiton 1:** We can find compact subset $K \\subset {\\mathbb R}^n$ such that $g(K) \\subset K$ for every $g$ in the contracting iterated function system. (Proof of this fact is left as an exercise.) The limit set can be defined as \n",
    "$$\\Lambda = \\bigcap_{n=0}^\\infty \\Lambda_n$$\n",
    "where $\\Lambda_0 = K$ and we define $\\Lambda_n$ for $n \\geq 0$ inductively according to the rule\n",
    "$$\\Lambda_{n+1} = \\bigcup_{i=0}^{k-1} g_i(\\Lambda_n).$$"
   ]
  },
  {
   "cell_type": "markdown",
   "metadata": {},
   "source": [
    "**Remark 1:** For the contracting iterated function system\n",
    "$$\\Big\\{~g_0(y) = \\frac{y}{3}, ~ g_1(y) = 1-\\frac{y}{3}~\\Big\\},$$\n",
    "we can take $K = [0, 1]$, since \n",
    "$$g_0([0,1])=\\left[0,\\frac{1}{3}\\right] \\quad \\text{and} \\quad g_1([0,1])=\\left[\\frac{2}{3},1\\right].$$"
   ]
  },
  {
   "cell_type": "markdown",
   "metadata": {},
   "source": [
    "**Remark 2:** The limit set of $\\{g_0, g_1\\}$ is the same as the set of points with bounded orbits. To see this, observe that when $K=[0,1]$,\n",
    "$$\\Lambda_n = \\Big\\{x \\in {\\mathbb R}:~ \\{x, T(x), T^2(x), \\ldots, T^n(x)\\} \\subset [0,1]\\Big\\}.$$\n",
    "Thus, \n",
    "$$\\Lambda = \\bigcap_{n=0}^\\infty \\Lambda_n = \\{x \\in {\\mathbb R}:~\\text{$T^n(x) \\in [0,1]$ for all $n \\geq 0$}\\}.$$"
   ]
  },
  {
   "cell_type": "markdown",
   "metadata": {},
   "source": [
    "The following alternate definition is easier for drawing pictures.\n",
    "\n",
    "**Definiton 2:** Let $G = \\{g_0, \\ldots, g_{k-1}\\}$ be a contracting iterated function system in ${\\mathbb R}^n$. Let $x_0 \\in {\\mathbb R}^n$ be any point. Then we have a natural map from the space of finite words in $\\{g_0, \\ldots, g_{k-1}\\}$ to ${\\mathbb R}^n$ by\n",
    "$$\\Phi:(g_{i_0}, g_{i_1}, \\ldots, g_{i_j}) \\mapsto g_{i_0} \\circ g_{i_1} \\circ \\ldots \\circ g_{i_j}(x_0).$$\n",
    "Here $\\Phi$ should be considered to be a map from $\\bigcup_{n=0}^\\infty G^n$ to ${\\mathbb R}^n$. The *limit set* (or *attractor* or *invariant set*) of $G$ is the set of points $z \\in {\\mathbb R}^n$ such that for any neighborhood $N$ of $z$ there are infinitely many finite words $w$ such that the image $\\Phi(w)$ lies in $N$. (That is for, every $\\epsilon>0$ there are infinitely words $w$ such that $d\\big(z, \\Phi(w)\\big)<\\epsilon$.)"
   ]
  },
  {
   "cell_type": "markdown",
   "metadata": {},
   "source": [
    "**Remark 3:** The set of finite words $\\bigcup_{n=0}^\\infty G^n$ and so can be arranged in a sequence $w_j$. Then we may define a sequence in ${\\mathbb R}^n$ by $y_j = \\Phi(w_j)$. The limit set as defined above is the same as the set of accumulation points (set of subsequential limits or cluser points) of the sequence $y_j$. "
   ]
  },
  {
   "cell_type": "markdown",
   "metadata": {},
   "source": [
    "Below we write a function which computes the image of the words of length $n$, \n",
    "$\\Phi(G^n)$. Observe that $\\Phi(G^0)= \\{x_0\\}$ and \n",
    "$$\\Phi(G^{n+1}) = g_0\\Big(\\Phi(G^n)\\big) \\cup g_1\\Big(\\Phi(G^n)\\big).$$\n",
    "This allows us to compute "
   ]
  },
  {
   "cell_type": "code",
   "execution_count": 14,
   "metadata": {},
   "outputs": [],
   "source": [
    "def compute_phi_image(n, x0):\n",
    "    leaves = [x0] # Stores G\n",
    "    for k in range(n):  # Loops through k=0, 1, ..., n-1\n",
    "        old_leaves = leaves  # Currently stores Phi(G^k)\n",
    "        leaves = []          # Will store Phi(G^{k+1})\n",
    "        for x in old_leaves: # Iterate through values in Phi(G^k)\n",
    "            leaves.append(g0(x)) # Add the two corresponding values\n",
    "            leaves.append(g1(x)) # to Phi(G^{k+1})\n",
    "    return leaves"
   ]
  },
  {
   "cell_type": "markdown",
   "metadata": {},
   "source": [
    "For example, `compute_phi_image(1, 1/2)` will compute the two values which map to $1/2$ under $T$."
   ]
  },
  {
   "cell_type": "code",
   "execution_count": 15,
   "metadata": {},
   "outputs": [
    {
     "data": {
      "text/plain": [
       "[1/6, 5/6]"
      ]
     },
     "execution_count": 15,
     "metadata": {},
     "output_type": "execute_result"
    }
   ],
   "source": [
    "values = compute_phi_image(1, 1/2)\n",
    "values"
   ]
  },
  {
   "cell_type": "markdown",
   "metadata": {},
   "source": [
    "And `compute_phi_image(2, 1/2)` will compute the four values which map to $1/2$ under $T^2$."
   ]
  },
  {
   "cell_type": "code",
   "execution_count": 16,
   "metadata": {},
   "outputs": [
    {
     "data": {
      "text/plain": [
       "[1/18, 17/18, 5/18, 13/18]"
      ]
     },
     "execution_count": 16,
     "metadata": {},
     "output_type": "execute_result"
    }
   ],
   "source": [
    "values = compute_phi_image(2, 1/2)\n",
    "values"
   ]
  },
  {
   "cell_type": "markdown",
   "metadata": {},
   "source": [
    "Now we will use the [point2d](https://doc.sagemath.org/html/en/reference/plotting/sage/plot/point.html#sage.plot.point.point2d) function from Sage to draw the Cantor set.\n",
    "We will take our $x$ values from `compute_phi_image(10, 1/2)` then assemble a list of points $(x,1)$ and the plot them."
   ]
  },
  {
   "cell_type": "code",
   "execution_count": 17,
   "metadata": {},
   "outputs": [
    {
     "data": {
      "image/png": "[encoded data removed]",
      "text/plain": [
       "Graphics object consisting of 1 graphics primitive"
      ]
     },
     "execution_count": 17,
     "metadata": {},
     "output_type": "execute_result"
    }
   ],
   "source": [
    "values = compute_phi_image(10, 1/2)\n",
    "points = []\n",
    "for x in values:\n",
    "    points.append( (x, 1) )\n",
    "point2d(points, marker='.', color='blue')"
   ]
  },
  {
   "cell_type": "markdown",
   "metadata": {},
   "source": [
    "## Exercises"
   ]
  },
  {
   "cell_type": "markdown",
   "metadata": {},
   "source": [
    "**1.** Prove that given a contracting iterated function system $G=\\{g_0, g_1, \\ldots, g_{k-1}\\}$ there is a compact set $K$ such that $g_i(K)$ is a subset of $K$ for all $i$."
   ]
  },
  {
   "cell_type": "markdown",
   "metadata": {},
   "source": [
    "**2.** Prove that definition 1 and definition 2 yield the same limit sets. This proof should be independent of:\n",
    "\n",
    "* The choice of $K$ satisfying $g_i(K) \\subset K$ in definition 1. \n",
    "* The choice of $x_0$ in definition 2. \n",
    "\n",
    "(*Hint:* Given a word $(g_{i_0}, g_{i_1}, \\ldots, g_{i_j})$, how far is the set\n",
    "$$g_{i_0} \\circ g_{i_1} \\circ \\ldots \\circ g_{i_j}(K)$$\n",
    "from the point\n",
    "$$g_{i_0} \\circ g_{i_1} \\circ \\ldots \\circ g_{i_j}(x_0)?)$$"
   ]
  },
  {
   "attachments": {
    "image.png": {
     "image/png": "[encoded data removed]"
    }
   },
   "cell_type": "markdown",
   "metadata": {},
   "source": [
    "**3.** Find a continuous function $f:{\\mathbb R}^2 \\to {\\mathbb R}^2$ such that the set of points with bounded orbits is exactly the Sierpiński Gasket. The *Sierpiński Gasket* is the limit of a construction depicted below. (This picture is Figure 1.2.1 of Edgar; see Edgar &sect; 1.2 for more details on the gasket.)\n",
    "![image.png](attachment:image.png)\n",
    "\n",
    "(*Hint:* Try folding up the plane and then scaling.)"
   ]
  },
  {
   "cell_type": "markdown",
   "metadata": {},
   "source": [
    "**4.** Draw a picture of the Sierpiński Gasket in Sage by plotting images of a single point under an iterated function system yielding the gasket. (*Remarks:* We haven't worked with vectors yet, but some code that playing with vectors is shown below. You can combine ideas demonstrated below with the technique used to plot the Cantor set using definition 2 above to draw the gasket.)"
   ]
  },
  {
   "cell_type": "code",
   "execution_count": 18,
   "metadata": {},
   "outputs": [],
   "source": [
    "# Define x to be a vector in the plane.\n",
    "w = vector([1,3])"
   ]
  },
  {
   "cell_type": "code",
   "execution_count": 19,
   "metadata": {},
   "outputs": [
    {
     "name": "stdout",
     "output_type": "stream",
     "text": [
      "x=1 and y=3.\n"
     ]
    }
   ],
   "source": [
    "# Extract the x and y coordinates from a vector\n",
    "x,y = w\n",
    "print(f'x={x} and y={y}.')"
   ]
  },
  {
   "cell_type": "code",
   "execution_count": 20,
   "metadata": {},
   "outputs": [],
   "source": [
    "# One contraction.\n",
    "def h0(v):\n",
    "    return v/2"
   ]
  },
  {
   "cell_type": "code",
   "execution_count": 21,
   "metadata": {},
   "outputs": [
    {
     "data": {
      "text/plain": [
       "(1/2, 3/2)"
      ]
     },
     "execution_count": 21,
     "metadata": {},
     "output_type": "execute_result"
    }
   ],
   "source": [
    "# Compute h_0(x)\n",
    "h0(w)"
   ]
  },
  {
   "cell_type": "code",
   "execution_count": 22,
   "metadata": {},
   "outputs": [
    {
     "data": {
      "text/plain": [
       "[(3, 1),\n",
       " (3/2, 1/2),\n",
       " (3/4, 1/4),\n",
       " (3/8, 1/8),\n",
       " (3/16, 1/16),\n",
       " (3/32, 1/32),\n",
       " (3/64, 1/64),\n",
       " (3/128, 1/128),\n",
       " (3/256, 1/256),\n",
       " (3/512, 1/512),\n",
       " (3/1024, 1/1024)]"
      ]
     },
     "execution_count": 22,
     "metadata": {},
     "output_type": "execute_result"
    }
   ],
   "source": [
    "# Here we compute an orbit\n",
    "w0 = vector([3,1])\n",
    "w = w0\n",
    "orbit = [w]\n",
    "for i in range(10):\n",
    "    w = h0(w)\n",
    "    orbit.append(w)\n",
    "orbit"
   ]
  },
  {
   "cell_type": "code",
   "execution_count": 23,
   "metadata": {},
   "outputs": [
    {
     "data": {
      "image/png": "[encoded data removed]",
      "text/plain": [
       "Graphics object consisting of 1 graphics primitive"
      ]
     },
     "execution_count": 23,
     "metadata": {},
     "output_type": "execute_result"
    }
   ],
   "source": [
    "point2d(orbit, marker='o', color='green', aspect_ratio=1)"
   ]
  }
 ],
 "metadata": {
  "kernelspec": {
   "display_name": "SageMath 9.2",
   "language": "sage",
   "name": "sagemath"
  },
  "language_info": {
   "codemirror_mode": {
    "name": "ipython",
    "version": 3
   },
   "file_extension": ".py",
   "mimetype": "text/x-python",
   "name": "python",
   "nbconvert_exporter": "python",
   "pygments_lexer": "ipython3",
   "version": "3.8.5"
  }
 },
 "nbformat": 4,
 "nbformat_minor": 4
}
